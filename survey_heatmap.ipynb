{
 "cells": [
  {
   "cell_type": "code",
   "execution_count": 1,
   "id": "745d65c3-0141-41e8-8c41-9c0a87f8ccf5",
   "metadata": {},
   "outputs": [
    {
     "data": {
      "text/html": [
       "<style>.container { width:100% !important; }</style>"
      ],
      "text/plain": [
       "<IPython.core.display.HTML object>"
      ]
     },
     "metadata": {},
     "output_type": "display_data"
    }
   ],
   "source": [
    "from IPython.display import display, HTML\n",
    "display(HTML(\"<style>.container { width:100% !important; }</style>\"))"
   ]
  },
  {
   "cell_type": "code",
   "execution_count": 2,
   "id": "2ceadeca-0404-4a92-b38e-0e8843019004",
   "metadata": {},
   "outputs": [
    {
     "data": {
      "text/plain": [
       "{'lc_ply_pid': '60276',\n",
       " 'dt_create': '2016-06-29Z',\n",
       " 'dt_retire': None,\n",
       " 'loc_pid': 'QLD599',\n",
       " 'qld_locali': '2016-08-10Z',\n",
       " 'qld_loca_1': None,\n",
       " 'qld_loca_2': 'CHELTENHAM',\n",
       " 'qld_loca_3': None,\n",
       " 'qld_loca_4': None,\n",
       " 'qld_loca_5': 'G',\n",
       " 'qld_loca_6': None,\n",
       " 'qld_loca_7': '3'}"
      ]
     },
     "execution_count": 2,
     "metadata": {},
     "output_type": "execute_result"
    }
   ],
   "source": [
    "import json\n",
    "\n",
    "with open('data/qld_suburbs.json', 'r') as f:\n",
    "    australia_geo_map = json.load(f)\n",
    "    \n",
    "australia_geo_map[\"features\"][550][\"properties\"]"
   ]
  },
  {
   "cell_type": "code",
   "execution_count": 4,
   "id": "799175cd-cb64-4562-9cf1-6c194699aba4",
   "metadata": {},
   "outputs": [
    {
     "data": {
      "text/html": [
       "<div>\n",
       "<style scoped>\n",
       "    .dataframe tbody tr th:only-of-type {\n",
       "        vertical-align: middle;\n",
       "    }\n",
       "\n",
       "    .dataframe tbody tr th {\n",
       "        vertical-align: top;\n",
       "    }\n",
       "\n",
       "    .dataframe thead th {\n",
       "        text-align: right;\n",
       "    }\n",
       "</style>\n",
       "<table border=\"1\" class=\"dataframe\">\n",
       "  <thead>\n",
       "    <tr style=\"text-align: right;\">\n",
       "      <th></th>\n",
       "      <th>Suburb</th>\n",
       "      <th>State</th>\n",
       "      <th>Postcode</th>\n",
       "      <th>Lat</th>\n",
       "      <th>Lng</th>\n",
       "      <th>Bounds_N</th>\n",
       "      <th>Bounds_E</th>\n",
       "      <th>Bounds_S</th>\n",
       "      <th>Bounds_W</th>\n",
       "    </tr>\n",
       "  </thead>\n",
       "  <tbody>\n",
       "    <tr>\n",
       "      <th>0</th>\n",
       "      <td>Abba River</td>\n",
       "      <td>WA</td>\n",
       "      <td>6280</td>\n",
       "      <td>-33.755545</td>\n",
       "      <td>115.331169</td>\n",
       "      <td>-33.575283</td>\n",
       "      <td>115.587865</td>\n",
       "      <td>-33.839733</td>\n",
       "      <td>114.986668</td>\n",
       "    </tr>\n",
       "    <tr>\n",
       "      <th>1</th>\n",
       "      <td>Abbeyard</td>\n",
       "      <td>VIC</td>\n",
       "      <td>3737</td>\n",
       "      <td>-36.846683</td>\n",
       "      <td>146.696286</td>\n",
       "      <td>-36.428091</td>\n",
       "      <td>147.117240</td>\n",
       "      <td>-37.215767</td>\n",
       "      <td>146.566453</td>\n",
       "    </tr>\n",
       "    <tr>\n",
       "      <th>2</th>\n",
       "      <td>Abbeywood</td>\n",
       "      <td>QLD</td>\n",
       "      <td>4613</td>\n",
       "      <td>-26.164864</td>\n",
       "      <td>151.602468</td>\n",
       "      <td>-26.001925</td>\n",
       "      <td>151.696582</td>\n",
       "      <td>-26.349839</td>\n",
       "      <td>151.013243</td>\n",
       "    </tr>\n",
       "    <tr>\n",
       "      <th>3</th>\n",
       "      <td>Abbotsbury</td>\n",
       "      <td>NSW</td>\n",
       "      <td>2176</td>\n",
       "      <td>-33.870941</td>\n",
       "      <td>150.878382</td>\n",
       "      <td>-33.846458</td>\n",
       "      <td>150.918840</td>\n",
       "      <td>-33.891044</td>\n",
       "      <td>150.842448</td>\n",
       "    </tr>\n",
       "    <tr>\n",
       "      <th>4</th>\n",
       "      <td>Abbotsford</td>\n",
       "      <td>NSW</td>\n",
       "      <td>2046</td>\n",
       "      <td>-33.856669</td>\n",
       "      <td>151.131581</td>\n",
       "      <td>-33.843676</td>\n",
       "      <td>151.149801</td>\n",
       "      <td>-33.874190</td>\n",
       "      <td>151.111614</td>\n",
       "    </tr>\n",
       "    <tr>\n",
       "      <th>...</th>\n",
       "      <td>...</td>\n",
       "      <td>...</td>\n",
       "      <td>...</td>\n",
       "      <td>...</td>\n",
       "      <td>...</td>\n",
       "      <td>...</td>\n",
       "      <td>...</td>\n",
       "      <td>...</td>\n",
       "      <td>...</td>\n",
       "    </tr>\n",
       "    <tr>\n",
       "      <th>10201</th>\n",
       "      <td>Zeerust</td>\n",
       "      <td>VIC</td>\n",
       "      <td>3634</td>\n",
       "      <td>-36.226680</td>\n",
       "      <td>145.425012</td>\n",
       "      <td>-36.159943</td>\n",
       "      <td>145.631651</td>\n",
       "      <td>-36.301217</td>\n",
       "      <td>145.260259</td>\n",
       "    </tr>\n",
       "    <tr>\n",
       "      <th>10202</th>\n",
       "      <td>Zetland</td>\n",
       "      <td>NSW</td>\n",
       "      <td>2017</td>\n",
       "      <td>-33.901536</td>\n",
       "      <td>151.207330</td>\n",
       "      <td>-33.895166</td>\n",
       "      <td>151.215860</td>\n",
       "      <td>-33.912229</td>\n",
       "      <td>151.199000</td>\n",
       "    </tr>\n",
       "    <tr>\n",
       "      <th>10203</th>\n",
       "      <td>Zillmere</td>\n",
       "      <td>QLD</td>\n",
       "      <td>4034</td>\n",
       "      <td>-27.364568</td>\n",
       "      <td>153.044193</td>\n",
       "      <td>-27.328304</td>\n",
       "      <td>153.093027</td>\n",
       "      <td>-27.383358</td>\n",
       "      <td>153.001069</td>\n",
       "    </tr>\n",
       "    <tr>\n",
       "      <th>10204</th>\n",
       "      <td>Zilzie</td>\n",
       "      <td>QLD</td>\n",
       "      <td>4710</td>\n",
       "      <td>-23.267370</td>\n",
       "      <td>150.826049</td>\n",
       "      <td>-23.217329</td>\n",
       "      <td>150.854761</td>\n",
       "      <td>-23.321890</td>\n",
       "      <td>150.764414</td>\n",
       "    </tr>\n",
       "    <tr>\n",
       "      <th>10205</th>\n",
       "      <td>Zuccoli</td>\n",
       "      <td>NT</td>\n",
       "      <td>832</td>\n",
       "      <td>-12.514798</td>\n",
       "      <td>130.994015</td>\n",
       "      <td>-12.480963</td>\n",
       "      <td>131.014339</td>\n",
       "      <td>-12.547000</td>\n",
       "      <td>130.975234</td>\n",
       "    </tr>\n",
       "  </tbody>\n",
       "</table>\n",
       "<p>10206 rows × 9 columns</p>\n",
       "</div>"
      ],
      "text/plain": [
       "           Suburb State  Postcode        Lat         Lng   Bounds_N  \\\n",
       "0      Abba River    WA      6280 -33.755545  115.331169 -33.575283   \n",
       "1        Abbeyard   VIC      3737 -36.846683  146.696286 -36.428091   \n",
       "2       Abbeywood   QLD      4613 -26.164864  151.602468 -26.001925   \n",
       "3      Abbotsbury   NSW      2176 -33.870941  150.878382 -33.846458   \n",
       "4      Abbotsford   NSW      2046 -33.856669  151.131581 -33.843676   \n",
       "...           ...   ...       ...        ...         ...        ...   \n",
       "10201     Zeerust   VIC      3634 -36.226680  145.425012 -36.159943   \n",
       "10202     Zetland   NSW      2017 -33.901536  151.207330 -33.895166   \n",
       "10203    Zillmere   QLD      4034 -27.364568  153.044193 -27.328304   \n",
       "10204      Zilzie   QLD      4710 -23.267370  150.826049 -23.217329   \n",
       "10205     Zuccoli    NT       832 -12.514798  130.994015 -12.480963   \n",
       "\n",
       "         Bounds_E   Bounds_S    Bounds_W  \n",
       "0      115.587865 -33.839733  114.986668  \n",
       "1      147.117240 -37.215767  146.566453  \n",
       "2      151.696582 -26.349839  151.013243  \n",
       "3      150.918840 -33.891044  150.842448  \n",
       "4      151.149801 -33.874190  151.111614  \n",
       "...           ...        ...         ...  \n",
       "10201  145.631651 -36.301217  145.260259  \n",
       "10202  151.215860 -33.912229  151.199000  \n",
       "10203  153.093027 -27.383358  153.001069  \n",
       "10204  150.854761 -23.321890  150.764414  \n",
       "10205  131.014339 -12.547000  130.975234  \n",
       "\n",
       "[10206 rows x 9 columns]"
      ]
     },
     "execution_count": 4,
     "metadata": {},
     "output_type": "execute_result"
    }
   ],
   "source": [
    "import pandas as pd\n",
    "df_lookup = pd.read_csv(\"data/qld_coords_lookup.csv\")\n",
    "# df_lookup.dropna(inplace=True)\n",
    "# df_lookup[\"Postcode\"] = df_lookup[\"Postcode\"].astype(int)\n",
    "df_lookup"
   ]
  },
  {
   "cell_type": "code",
   "execution_count": 5,
   "id": "707f9b7e-735c-4fbe-b2de-814af3a4603a",
   "metadata": {},
   "outputs": [
    {
     "data": {
      "text/html": [
       "<div>\n",
       "<style scoped>\n",
       "    .dataframe tbody tr th:only-of-type {\n",
       "        vertical-align: middle;\n",
       "    }\n",
       "\n",
       "    .dataframe tbody tr th {\n",
       "        vertical-align: top;\n",
       "    }\n",
       "\n",
       "    .dataframe thead th {\n",
       "        text-align: right;\n",
       "    }\n",
       "</style>\n",
       "<table border=\"1\" class=\"dataframe\">\n",
       "  <thead>\n",
       "    <tr style=\"text-align: right;\">\n",
       "      <th></th>\n",
       "      <th>Postcode</th>\n",
       "      <th>value</th>\n",
       "    </tr>\n",
       "  </thead>\n",
       "  <tbody>\n",
       "    <tr>\n",
       "      <th>0</th>\n",
       "      <td>4551</td>\n",
       "      <td>15</td>\n",
       "    </tr>\n",
       "    <tr>\n",
       "      <th>1</th>\n",
       "      <td>4216</td>\n",
       "      <td>14</td>\n",
       "    </tr>\n",
       "    <tr>\n",
       "      <th>2</th>\n",
       "      <td>4870</td>\n",
       "      <td>13</td>\n",
       "    </tr>\n",
       "    <tr>\n",
       "      <th>3</th>\n",
       "      <td>4350</td>\n",
       "      <td>13</td>\n",
       "    </tr>\n",
       "    <tr>\n",
       "      <th>4</th>\n",
       "      <td>4655</td>\n",
       "      <td>12</td>\n",
       "    </tr>\n",
       "  </tbody>\n",
       "</table>\n",
       "</div>"
      ],
      "text/plain": [
       "   Postcode  value\n",
       "0      4551     15\n",
       "1      4216     14\n",
       "2      4870     13\n",
       "3      4350     13\n",
       "4      4655     12"
      ]
     },
     "execution_count": 5,
     "metadata": {},
     "output_type": "execute_result"
    }
   ],
   "source": [
    "import pandas as pd\n",
    "df = pd.read_csv(\"data/survey_postcodes.csv\")\n",
    "df_counts = pd.DataFrame(df.Postcode.value_counts().reset_index().values, columns=[\"Postcode\", \"value\"])\n",
    "df_counts.head()"
   ]
  },
  {
   "cell_type": "code",
   "execution_count": null,
   "id": "0d651635-60e5-48a6-9924-ce231e3b41e7",
   "metadata": {},
   "outputs": [],
   "source": []
  },
  {
   "cell_type": "code",
   "execution_count": 18,
   "id": "b3c56568-ca7d-497a-996a-727f3139beed",
   "metadata": {},
   "outputs": [
    {
     "data": {
      "text/html": [
       "<div>\n",
       "<style scoped>\n",
       "    .dataframe tbody tr th:only-of-type {\n",
       "        vertical-align: middle;\n",
       "    }\n",
       "\n",
       "    .dataframe tbody tr th {\n",
       "        vertical-align: top;\n",
       "    }\n",
       "\n",
       "    .dataframe thead th {\n",
       "        text-align: right;\n",
       "    }\n",
       "</style>\n",
       "<table border=\"1\" class=\"dataframe\">\n",
       "  <thead>\n",
       "    <tr style=\"text-align: right;\">\n",
       "      <th></th>\n",
       "      <th>Postcode</th>\n",
       "      <th>value</th>\n",
       "      <th>(Lat, Lon)</th>\n",
       "      <th>Lat</th>\n",
       "      <th>Lng</th>\n",
       "    </tr>\n",
       "  </thead>\n",
       "  <tbody>\n",
       "    <tr>\n",
       "      <th>0</th>\n",
       "      <td>4551</td>\n",
       "      <td>15</td>\n",
       "      <td>Lat    -26.797740\n",
       "Lng    153.135935\n",
       "Name: 0, d...</td>\n",
       "      <td>-26.79774</td>\n",
       "      <td>153.135935</td>\n",
       "    </tr>\n",
       "    <tr>\n",
       "      <th>1</th>\n",
       "      <td>4216</td>\n",
       "      <td>14</td>\n",
       "      <td>Lat    -27.900403\n",
       "Lng    153.403629\n",
       "Name: 0, d...</td>\n",
       "      <td>-27.900403</td>\n",
       "      <td>153.403629</td>\n",
       "    </tr>\n",
       "    <tr>\n",
       "      <th>2</th>\n",
       "      <td>4870</td>\n",
       "      <td>13</td>\n",
       "      <td>Lat    -16.918648\n",
       "Lng    145.740550\n",
       "Name: 0, d...</td>\n",
       "      <td>-16.918648</td>\n",
       "      <td>145.74055</td>\n",
       "    </tr>\n",
       "    <tr>\n",
       "      <th>3</th>\n",
       "      <td>4350</td>\n",
       "      <td>13</td>\n",
       "      <td>Lat    -27.556488\n",
       "Lng    151.953318\n",
       "Name: 0, d...</td>\n",
       "      <td>-27.556488</td>\n",
       "      <td>151.953318</td>\n",
       "    </tr>\n",
       "    <tr>\n",
       "      <th>4</th>\n",
       "      <td>4655</td>\n",
       "      <td>12</td>\n",
       "      <td>Lat    -25.296525\n",
       "Lng    152.823546\n",
       "Name: 0, d...</td>\n",
       "      <td>-25.296525</td>\n",
       "      <td>152.823546</td>\n",
       "    </tr>\n",
       "  </tbody>\n",
       "</table>\n",
       "</div>"
      ],
      "text/plain": [
       "   Postcode  value                                         (Lat, Lon)  \\\n",
       "0      4551     15  Lat    -26.797740\n",
       "Lng    153.135935\n",
       "Name: 0, d...   \n",
       "1      4216     14  Lat    -27.900403\n",
       "Lng    153.403629\n",
       "Name: 0, d...   \n",
       "2      4870     13  Lat    -16.918648\n",
       "Lng    145.740550\n",
       "Name: 0, d...   \n",
       "3      4350     13  Lat    -27.556488\n",
       "Lng    151.953318\n",
       "Name: 0, d...   \n",
       "4      4655     12  Lat    -25.296525\n",
       "Lng    152.823546\n",
       "Name: 0, d...   \n",
       "\n",
       "         Lat         Lng  \n",
       "0  -26.79774  153.135935  \n",
       "1 -27.900403  153.403629  \n",
       "2 -16.918648   145.74055  \n",
       "3 -27.556488  151.953318  \n",
       "4 -25.296525  152.823546  "
      ]
     },
     "execution_count": 18,
     "metadata": {},
     "output_type": "execute_result"
    }
   ],
   "source": [
    "# Append lat/lon column\n",
    "def get_lat(postcode):\n",
    "    lat = df_lookup[df_lookup[\"Postcode\"] == postcode].reset_index()[\"Lat\"]\n",
    "    if lat.empty:\n",
    "        return pd.NA\n",
    "    return lat[0]\n",
    "\n",
    "def get_lng(postcode):\n",
    "    lat = df_lookup[df_lookup[\"Postcode\"] == postcode].reset_index()[\"Lng\"]\n",
    "    if lat.empty:\n",
    "        return pd.NA\n",
    "    return lat[0]\n",
    "    \n",
    "df_counts[\"Lat\"] = df_counts[\"Postcode\"].map(get_lat)\n",
    "df_counts[\"Lng\"] = df_counts[\"Postcode\"].map(get_lng)\n",
    "df_counts.dropna(inplace=True)\n",
    "df_counts.head()"
   ]
  },
  {
   "cell_type": "code",
   "execution_count": 20,
   "id": "152024a0-57e8-4aa7-8378-9986c8ed1003",
   "metadata": {},
   "outputs": [
    {
     "data": {
      "application/vnd.plotly.v1+json": {
       "config": {
        "plotlyServerURL": "https://plot.ly"
       },
       "data": [
        {
         "coloraxis": "coloraxis",
         "hovertemplate": "value=%{z}<br>Lat=%{lat}<br>Lng=%{lon}<extra></extra>",
         "lat": [
          -26.7977396,
          -27.9004034,
          -16.918648,
          -27.5564884,
          -25.2965245,
          -27.965505,
          -27.7319516,
          -27.5070527,
          -27.995579,
          -24.8822309,
          -27.6372514,
          -27.0796844,
          -26.6971583,
          -27.2508424,
          -28.0396814,
          -28.004695,
          -27.5840406,
          -27.2171518,
          -27.5020161,
          -27.3645676,
          -26.9861003,
          -27.3190241,
          -26.6077924,
          -27.629563,
          -28.1288855,
          -17.2661339,
          -26.7230355,
          -25.5350235,
          -27.9623616,
          -27.852293,
          -27.5480097,
          -28.0648601,
          -27.7918539,
          -28.142191,
          -27.4191871,
          -19.3321474,
          -28.0963527,
          -27.522958,
          -19.2878252,
          -27.3847107,
          -27.3957404,
          -25.1854347,
          -27.6238851,
          -27.1859323,
          -23.3500536,
          -27.2360306,
          -28.0150124,
          -26.7346009,
          -26.303935,
          -16.7705777,
          -27.5819961,
          -27.6113884,
          -27.5443032,
          -26.4134913,
          -27.3428542,
          -27.4595003,
          -26.6990471,
          -26.5397645,
          -27.4880371,
          -27.9336003,
          -27.5889518,
          -27.7674471,
          -27.4076416,
          -27.6453606,
          -26.6541595,
          -27.4401591,
          -18.6498411,
          -27.066757,
          -27.7225265,
          -19.35682,
          -27.2439947,
          -28.7588427,
          -16.9941129,
          -28.1469507,
          -26.8507005,
          -27.6519632,
          -17.3535838,
          -27.3901209,
          -27.4806276,
          -27.4869721,
          -20.2674989,
          -27.6749806,
          -27.5140455,
          -28.110678,
          -27.5569601,
          -27.6781718,
          -27.6372491,
          -27.3392025,
          -27.6185546,
          -16.2446478,
          -27.5334347,
          -26.3724452,
          -23.1334578,
          -21.1499948,
          -26.5394151,
          -19.2873647,
          -27.1544509,
          -27.5009968,
          -27.4756536,
          -27.5017624,
          -16.8314187,
          -27.535027,
          -27.4799195,
          -28.215734,
          -27.6120425,
          -27.628802,
          -27.4230215,
          -17.0187557,
          -26.1882554,
          -27.5635723,
          -27.37121,
          -27.5951554,
          -27.4999713,
          -26.7813787,
          -27.3244055,
          -19.3884456,
          -26.8392162,
          -27.3203817,
          -27.4261914,
          -26.0346017,
          -27.4517481,
          -26.6715056,
          -27.4655769,
          -21.1851758,
          -27.4119662,
          -16.5257098,
          -27.2838811,
          -27.3565346,
          -19.1547801,
          -17.4318581,
          -17.2711364,
          -27.7240022,
          -24.5729805,
          -23.5831866,
          -19.2049974,
          -27.4412376,
          -24.3287726,
          -27.4025873,
          -27.5435374,
          -23.8783576,
          -26.7280729,
          -26.6105931,
          -18.5471467,
          -27.2015813,
          -27.5554476,
          -24.9910749,
          -27.223156,
          -20.6881443,
          -27.8856135,
          -27.666306,
          -27.5786368,
          -27.5070097,
          -28.1404831,
          -27.5812621,
          -26.3629933,
          -25.2686005,
          -27.4718491,
          -26.789344,
          -27.4857911,
          -27.133839,
          -20.4049878,
          -27.6895821,
          -26.6667341,
          -28.1700418,
          -27.6080535,
          -27.4666718,
          -16.9678678,
          -27.0367308,
          -27.4660994,
          -27.4620175,
          -26.5626224,
          -27.0874883,
          -23.3762489,
          -27.5658223,
          -27.4447063,
          -27.6166842,
          -27.4437553
         ],
         "lon": [
          153.1359352,
          153.4036287,
          145.7405497,
          151.9533185,
          152.8235456,
          153.4036287,
          153.2061661,
          153.1030766,
          153.3222261,
          152.3593807,
          152.7676633,
          152.9518951,
          153.0500809,
          152.9926352,
          153.4213208,
          153.4095259,
          153.0559687,
          153.1060212,
          152.8970569,
          153.0441933,
          153.1325243,
          153.0339889,
          152.9323602,
          153.1443045,
          153.4543191,
          145.4858493,
          153.1300249,
          152.695998,
          153.3623524,
          153.2992885,
          153.0912986,
          153.3859379,
          153.4036287,
          153.3347271,
          153.0589126,
          146.6060735,
          153.4331163,
          153.220588,
          146.7552341,
          153.023588,
          152.9853264,
          152.3095833,
          153.0499871,
          153.0206446,
          150.5501151,
          153.0265315,
          152.9676695,
          152.7559043,
          152.9912123,
          145.6717627,
          153.1979543,
          153.0336149,
          152.9823847,
          153.0505806,
          153.0441933,
          151.9470976,
          153.1010891,
          151.84313,
          153.2208914,
          153.2805288,
          153.0795213,
          153.2857165,
          153.0294751,
          152.908824,
          153.0795213,
          152.9382447,
          146.1622593,
          153.0834039,
          153.0441933,
          147.0379125,
          153.0912986,
          151.6538052,
          145.3585972,
          153.4919105,
          152.8970569,
          153.1737578,
          145.5936206,
          152.9323602,
          153.0412496,
          153.2390188,
          148.7169163,
          153.0500809,
          153.0149526,
          153.3977316,
          152.9264759,
          153.0912986,
          153.1030766,
          152.9353024,
          152.9617842,
          145.2701235,
          153.2667742,
          150.7679216,
          150.7333257,
          149.1271385,
          153.0879644,
          146.7917682,
          152.9727474,
          153.0619877,
          152.9917027,
          152.973555,
          145.6908596,
          153.0259992,
          153.0118145,
          152.0281585,
          153.3551435,
          152.8558773,
          153.0340375,
          145.7448496,
          152.6705427,
          152.2799511,
          152.8676186,
          152.9794406,
          153.4000698,
          151.10998,
          151.8643252,
          146.7244769,
          151.9774802,
          151.7473377,
          152.9882693,
          153.0618566,
          153.0589126,
          153.1045489,
          153.0471371,
          145.1375834,
          152.9549828,
          145.4652682,
          152.9823835,
          152.9794406,
          146.8451379,
          145.093449,
          145.5830739,
          153.1030766,
          149.9744783,
          148.8799357,
          146.5168094,
          152.9823835,
          151.5580962,
          152.4269361,
          152.9529566,
          151.2463137,
          152.9617842,
          153.0795213,
          143.2244216,
          152.9655318,
          152.8676421,
          151.9554405,
          153.0824656,
          148.6236338,
          153.1236742,
          153.1384143,
          152.9264759,
          153.0479859,
          153.4285672,
          153.1207447,
          152.8559985,
          152.6148504,
          153.1295793,
          152.4973826,
          152.4621561,
          152.9264759,
          148.5807213,
          153.1590306,
          152.9665872,
          153.4341362,
          152.8088251,
          153.1833308,
          145.7464633,
          152.9607727,
          153.023588,
          153.0750052,
          152.9554676,
          152.3762221,
          150.5004652,
          153.0206446,
          153.1295793,
          153.0166574,
          153.17369
         ],
         "name": "",
         "subplot": "mapbox",
         "type": "densitymapbox",
         "z": [
          15,
          14,
          13,
          13,
          12,
          11,
          11,
          11,
          10,
          10,
          10,
          9,
          8,
          8,
          7,
          7,
          7,
          7,
          6,
          6,
          6,
          5,
          5,
          5,
          5,
          5,
          5,
          5,
          5,
          5,
          5,
          5,
          5,
          5,
          5,
          5,
          4,
          4,
          4,
          4,
          4,
          4,
          4,
          4,
          4,
          4,
          4,
          4,
          4,
          4,
          3,
          3,
          3,
          3,
          3,
          3,
          3,
          3,
          3,
          3,
          3,
          3,
          3,
          3,
          3,
          2,
          2,
          2,
          2,
          2,
          2,
          2,
          2,
          2,
          2,
          2,
          2,
          2,
          2,
          2,
          2,
          2,
          2,
          2,
          2,
          2,
          2,
          2,
          2,
          2,
          2,
          2,
          2,
          2,
          2,
          2,
          2,
          2,
          2,
          2,
          2,
          2,
          2,
          2,
          2,
          2,
          2,
          2,
          2,
          2,
          2,
          1,
          1,
          1,
          1,
          1,
          1,
          1,
          1,
          1,
          1,
          1,
          1,
          1,
          1,
          1,
          1,
          1,
          1,
          1,
          1,
          1,
          1,
          1,
          1,
          1,
          1,
          1,
          1,
          1,
          1,
          1,
          1,
          1,
          1,
          1,
          1,
          1,
          1,
          1,
          1,
          1,
          1,
          1,
          1,
          1,
          1,
          1,
          1,
          1,
          1,
          1,
          1,
          1,
          1,
          1,
          1,
          1,
          1,
          1,
          1,
          1,
          1,
          1,
          1,
          1,
          1
         ]
        }
       ],
       "layout": {
        "coloraxis": {
         "colorbar": {
          "title": {
           "text": "value"
          }
         },
         "colorscale": [
          [
           0,
           "#0d0887"
          ],
          [
           0.1111111111111111,
           "#46039f"
          ],
          [
           0.2222222222222222,
           "#7201a8"
          ],
          [
           0.3333333333333333,
           "#9c179e"
          ],
          [
           0.4444444444444444,
           "#bd3786"
          ],
          [
           0.5555555555555556,
           "#d8576b"
          ],
          [
           0.6666666666666666,
           "#ed7953"
          ],
          [
           0.7777777777777778,
           "#fb9f3a"
          ],
          [
           0.8888888888888888,
           "#fdca26"
          ],
          [
           1,
           "#f0f921"
          ]
         ]
        },
        "height": 700,
        "legend": {
         "tracegroupgap": 0
        },
        "mapbox": {
         "center": {
          "lat": -25.86617684463277,
          "lon": 151.86430188587573
         },
         "domain": {
          "x": [
           0,
           1
          ],
          "y": [
           0,
           1
          ]
         },
         "zoom": 8
        },
        "margin": {
         "t": 60
        },
        "template": {
         "data": {
          "bar": [
           {
            "error_x": {
             "color": "#2a3f5f"
            },
            "error_y": {
             "color": "#2a3f5f"
            },
            "marker": {
             "line": {
              "color": "#E5ECF6",
              "width": 0.5
             },
             "pattern": {
              "fillmode": "overlay",
              "size": 10,
              "solidity": 0.2
             }
            },
            "type": "bar"
           }
          ],
          "barpolar": [
           {
            "marker": {
             "line": {
              "color": "#E5ECF6",
              "width": 0.5
             },
             "pattern": {
              "fillmode": "overlay",
              "size": 10,
              "solidity": 0.2
             }
            },
            "type": "barpolar"
           }
          ],
          "carpet": [
           {
            "aaxis": {
             "endlinecolor": "#2a3f5f",
             "gridcolor": "white",
             "linecolor": "white",
             "minorgridcolor": "white",
             "startlinecolor": "#2a3f5f"
            },
            "baxis": {
             "endlinecolor": "#2a3f5f",
             "gridcolor": "white",
             "linecolor": "white",
             "minorgridcolor": "white",
             "startlinecolor": "#2a3f5f"
            },
            "type": "carpet"
           }
          ],
          "choropleth": [
           {
            "colorbar": {
             "outlinewidth": 0,
             "ticks": ""
            },
            "type": "choropleth"
           }
          ],
          "contour": [
           {
            "colorbar": {
             "outlinewidth": 0,
             "ticks": ""
            },
            "colorscale": [
             [
              0,
              "#0d0887"
             ],
             [
              0.1111111111111111,
              "#46039f"
             ],
             [
              0.2222222222222222,
              "#7201a8"
             ],
             [
              0.3333333333333333,
              "#9c179e"
             ],
             [
              0.4444444444444444,
              "#bd3786"
             ],
             [
              0.5555555555555556,
              "#d8576b"
             ],
             [
              0.6666666666666666,
              "#ed7953"
             ],
             [
              0.7777777777777778,
              "#fb9f3a"
             ],
             [
              0.8888888888888888,
              "#fdca26"
             ],
             [
              1,
              "#f0f921"
             ]
            ],
            "type": "contour"
           }
          ],
          "contourcarpet": [
           {
            "colorbar": {
             "outlinewidth": 0,
             "ticks": ""
            },
            "type": "contourcarpet"
           }
          ],
          "heatmap": [
           {
            "colorbar": {
             "outlinewidth": 0,
             "ticks": ""
            },
            "colorscale": [
             [
              0,
              "#0d0887"
             ],
             [
              0.1111111111111111,
              "#46039f"
             ],
             [
              0.2222222222222222,
              "#7201a8"
             ],
             [
              0.3333333333333333,
              "#9c179e"
             ],
             [
              0.4444444444444444,
              "#bd3786"
             ],
             [
              0.5555555555555556,
              "#d8576b"
             ],
             [
              0.6666666666666666,
              "#ed7953"
             ],
             [
              0.7777777777777778,
              "#fb9f3a"
             ],
             [
              0.8888888888888888,
              "#fdca26"
             ],
             [
              1,
              "#f0f921"
             ]
            ],
            "type": "heatmap"
           }
          ],
          "heatmapgl": [
           {
            "colorbar": {
             "outlinewidth": 0,
             "ticks": ""
            },
            "colorscale": [
             [
              0,
              "#0d0887"
             ],
             [
              0.1111111111111111,
              "#46039f"
             ],
             [
              0.2222222222222222,
              "#7201a8"
             ],
             [
              0.3333333333333333,
              "#9c179e"
             ],
             [
              0.4444444444444444,
              "#bd3786"
             ],
             [
              0.5555555555555556,
              "#d8576b"
             ],
             [
              0.6666666666666666,
              "#ed7953"
             ],
             [
              0.7777777777777778,
              "#fb9f3a"
             ],
             [
              0.8888888888888888,
              "#fdca26"
             ],
             [
              1,
              "#f0f921"
             ]
            ],
            "type": "heatmapgl"
           }
          ],
          "histogram": [
           {
            "marker": {
             "pattern": {
              "fillmode": "overlay",
              "size": 10,
              "solidity": 0.2
             }
            },
            "type": "histogram"
           }
          ],
          "histogram2d": [
           {
            "colorbar": {
             "outlinewidth": 0,
             "ticks": ""
            },
            "colorscale": [
             [
              0,
              "#0d0887"
             ],
             [
              0.1111111111111111,
              "#46039f"
             ],
             [
              0.2222222222222222,
              "#7201a8"
             ],
             [
              0.3333333333333333,
              "#9c179e"
             ],
             [
              0.4444444444444444,
              "#bd3786"
             ],
             [
              0.5555555555555556,
              "#d8576b"
             ],
             [
              0.6666666666666666,
              "#ed7953"
             ],
             [
              0.7777777777777778,
              "#fb9f3a"
             ],
             [
              0.8888888888888888,
              "#fdca26"
             ],
             [
              1,
              "#f0f921"
             ]
            ],
            "type": "histogram2d"
           }
          ],
          "histogram2dcontour": [
           {
            "colorbar": {
             "outlinewidth": 0,
             "ticks": ""
            },
            "colorscale": [
             [
              0,
              "#0d0887"
             ],
             [
              0.1111111111111111,
              "#46039f"
             ],
             [
              0.2222222222222222,
              "#7201a8"
             ],
             [
              0.3333333333333333,
              "#9c179e"
             ],
             [
              0.4444444444444444,
              "#bd3786"
             ],
             [
              0.5555555555555556,
              "#d8576b"
             ],
             [
              0.6666666666666666,
              "#ed7953"
             ],
             [
              0.7777777777777778,
              "#fb9f3a"
             ],
             [
              0.8888888888888888,
              "#fdca26"
             ],
             [
              1,
              "#f0f921"
             ]
            ],
            "type": "histogram2dcontour"
           }
          ],
          "mesh3d": [
           {
            "colorbar": {
             "outlinewidth": 0,
             "ticks": ""
            },
            "type": "mesh3d"
           }
          ],
          "parcoords": [
           {
            "line": {
             "colorbar": {
              "outlinewidth": 0,
              "ticks": ""
             }
            },
            "type": "parcoords"
           }
          ],
          "pie": [
           {
            "automargin": true,
            "type": "pie"
           }
          ],
          "scatter": [
           {
            "marker": {
             "colorbar": {
              "outlinewidth": 0,
              "ticks": ""
             }
            },
            "type": "scatter"
           }
          ],
          "scatter3d": [
           {
            "line": {
             "colorbar": {
              "outlinewidth": 0,
              "ticks": ""
             }
            },
            "marker": {
             "colorbar": {
              "outlinewidth": 0,
              "ticks": ""
             }
            },
            "type": "scatter3d"
           }
          ],
          "scattercarpet": [
           {
            "marker": {
             "colorbar": {
              "outlinewidth": 0,
              "ticks": ""
             }
            },
            "type": "scattercarpet"
           }
          ],
          "scattergeo": [
           {
            "marker": {
             "colorbar": {
              "outlinewidth": 0,
              "ticks": ""
             }
            },
            "type": "scattergeo"
           }
          ],
          "scattergl": [
           {
            "marker": {
             "colorbar": {
              "outlinewidth": 0,
              "ticks": ""
             }
            },
            "type": "scattergl"
           }
          ],
          "scattermapbox": [
           {
            "marker": {
             "colorbar": {
              "outlinewidth": 0,
              "ticks": ""
             }
            },
            "type": "scattermapbox"
           }
          ],
          "scatterpolar": [
           {
            "marker": {
             "colorbar": {
              "outlinewidth": 0,
              "ticks": ""
             }
            },
            "type": "scatterpolar"
           }
          ],
          "scatterpolargl": [
           {
            "marker": {
             "colorbar": {
              "outlinewidth": 0,
              "ticks": ""
             }
            },
            "type": "scatterpolargl"
           }
          ],
          "scatterternary": [
           {
            "marker": {
             "colorbar": {
              "outlinewidth": 0,
              "ticks": ""
             }
            },
            "type": "scatterternary"
           }
          ],
          "surface": [
           {
            "colorbar": {
             "outlinewidth": 0,
             "ticks": ""
            },
            "colorscale": [
             [
              0,
              "#0d0887"
             ],
             [
              0.1111111111111111,
              "#46039f"
             ],
             [
              0.2222222222222222,
              "#7201a8"
             ],
             [
              0.3333333333333333,
              "#9c179e"
             ],
             [
              0.4444444444444444,
              "#bd3786"
             ],
             [
              0.5555555555555556,
              "#d8576b"
             ],
             [
              0.6666666666666666,
              "#ed7953"
             ],
             [
              0.7777777777777778,
              "#fb9f3a"
             ],
             [
              0.8888888888888888,
              "#fdca26"
             ],
             [
              1,
              "#f0f921"
             ]
            ],
            "type": "surface"
           }
          ],
          "table": [
           {
            "cells": {
             "fill": {
              "color": "#EBF0F8"
             },
             "line": {
              "color": "white"
             }
            },
            "header": {
             "fill": {
              "color": "#C8D4E3"
             },
             "line": {
              "color": "white"
             }
            },
            "type": "table"
           }
          ]
         },
         "layout": {
          "annotationdefaults": {
           "arrowcolor": "#2a3f5f",
           "arrowhead": 0,
           "arrowwidth": 1
          },
          "autotypenumbers": "strict",
          "coloraxis": {
           "colorbar": {
            "outlinewidth": 0,
            "ticks": ""
           }
          },
          "colorscale": {
           "diverging": [
            [
             0,
             "#8e0152"
            ],
            [
             0.1,
             "#c51b7d"
            ],
            [
             0.2,
             "#de77ae"
            ],
            [
             0.3,
             "#f1b6da"
            ],
            [
             0.4,
             "#fde0ef"
            ],
            [
             0.5,
             "#f7f7f7"
            ],
            [
             0.6,
             "#e6f5d0"
            ],
            [
             0.7,
             "#b8e186"
            ],
            [
             0.8,
             "#7fbc41"
            ],
            [
             0.9,
             "#4d9221"
            ],
            [
             1,
             "#276419"
            ]
           ],
           "sequential": [
            [
             0,
             "#0d0887"
            ],
            [
             0.1111111111111111,
             "#46039f"
            ],
            [
             0.2222222222222222,
             "#7201a8"
            ],
            [
             0.3333333333333333,
             "#9c179e"
            ],
            [
             0.4444444444444444,
             "#bd3786"
            ],
            [
             0.5555555555555556,
             "#d8576b"
            ],
            [
             0.6666666666666666,
             "#ed7953"
            ],
            [
             0.7777777777777778,
             "#fb9f3a"
            ],
            [
             0.8888888888888888,
             "#fdca26"
            ],
            [
             1,
             "#f0f921"
            ]
           ],
           "sequentialminus": [
            [
             0,
             "#0d0887"
            ],
            [
             0.1111111111111111,
             "#46039f"
            ],
            [
             0.2222222222222222,
             "#7201a8"
            ],
            [
             0.3333333333333333,
             "#9c179e"
            ],
            [
             0.4444444444444444,
             "#bd3786"
            ],
            [
             0.5555555555555556,
             "#d8576b"
            ],
            [
             0.6666666666666666,
             "#ed7953"
            ],
            [
             0.7777777777777778,
             "#fb9f3a"
            ],
            [
             0.8888888888888888,
             "#fdca26"
            ],
            [
             1,
             "#f0f921"
            ]
           ]
          },
          "colorway": [
           "#636efa",
           "#EF553B",
           "#00cc96",
           "#ab63fa",
           "#FFA15A",
           "#19d3f3",
           "#FF6692",
           "#B6E880",
           "#FF97FF",
           "#FECB52"
          ],
          "font": {
           "color": "#2a3f5f"
          },
          "geo": {
           "bgcolor": "white",
           "lakecolor": "white",
           "landcolor": "#E5ECF6",
           "showlakes": true,
           "showland": true,
           "subunitcolor": "white"
          },
          "hoverlabel": {
           "align": "left"
          },
          "hovermode": "closest",
          "mapbox": {
           "style": "light"
          },
          "paper_bgcolor": "white",
          "plot_bgcolor": "#E5ECF6",
          "polar": {
           "angularaxis": {
            "gridcolor": "white",
            "linecolor": "white",
            "ticks": ""
           },
           "bgcolor": "#E5ECF6",
           "radialaxis": {
            "gridcolor": "white",
            "linecolor": "white",
            "ticks": ""
           }
          },
          "scene": {
           "xaxis": {
            "backgroundcolor": "#E5ECF6",
            "gridcolor": "white",
            "gridwidth": 2,
            "linecolor": "white",
            "showbackground": true,
            "ticks": "",
            "zerolinecolor": "white"
           },
           "yaxis": {
            "backgroundcolor": "#E5ECF6",
            "gridcolor": "white",
            "gridwidth": 2,
            "linecolor": "white",
            "showbackground": true,
            "ticks": "",
            "zerolinecolor": "white"
           },
           "zaxis": {
            "backgroundcolor": "#E5ECF6",
            "gridcolor": "white",
            "gridwidth": 2,
            "linecolor": "white",
            "showbackground": true,
            "ticks": "",
            "zerolinecolor": "white"
           }
          },
          "shapedefaults": {
           "line": {
            "color": "#2a3f5f"
           }
          },
          "ternary": {
           "aaxis": {
            "gridcolor": "white",
            "linecolor": "white",
            "ticks": ""
           },
           "baxis": {
            "gridcolor": "white",
            "linecolor": "white",
            "ticks": ""
           },
           "bgcolor": "#E5ECF6",
           "caxis": {
            "gridcolor": "white",
            "linecolor": "white",
            "ticks": ""
           }
          },
          "title": {
           "x": 0.05
          },
          "xaxis": {
           "automargin": true,
           "gridcolor": "white",
           "linecolor": "white",
           "ticks": "",
           "title": {
            "standoff": 15
           },
           "zerolinecolor": "white",
           "zerolinewidth": 2
          },
          "yaxis": {
           "automargin": true,
           "gridcolor": "white",
           "linecolor": "white",
           "ticks": "",
           "title": {
            "standoff": 15
           },
           "zerolinecolor": "white",
           "zerolinewidth": 2
          }
         }
        }
       }
      },
      "text/html": [
       "<div>                            <div id=\"4e6042d6-9c86-467e-b960-b6758fae9bfb\" class=\"plotly-graph-div\" style=\"height:700px; width:100%;\"></div>            <script type=\"text/javascript\">                require([\"plotly\"], function(Plotly) {                    window.PLOTLYENV=window.PLOTLYENV || {};                                    if (document.getElementById(\"4e6042d6-9c86-467e-b960-b6758fae9bfb\")) {                    Plotly.newPlot(                        \"4e6042d6-9c86-467e-b960-b6758fae9bfb\",                        [{\"coloraxis\":\"coloraxis\",\"hovertemplate\":\"value=%{z}<br>Lat=%{lat}<br>Lng=%{lon}<extra></extra>\",\"lat\":[-26.7977396,-27.9004034,-16.918648,-27.5564884,-25.2965245,-27.965505,-27.7319516,-27.5070527,-27.995579,-24.8822309,-27.6372514,-27.0796844,-26.6971583,-27.2508424,-28.0396814,-28.004695,-27.5840406,-27.2171518,-27.5020161,-27.3645676,-26.9861003,-27.3190241,-26.6077924,-27.629563,-28.1288855,-17.2661339,-26.7230355,-25.5350235,-27.9623616,-27.852293,-27.5480097,-28.0648601,-27.7918539,-28.142191,-27.4191871,-19.3321474,-28.0963527,-27.522958,-19.2878252,-27.3847107,-27.3957404,-25.1854347,-27.6238851,-27.1859323,-23.3500536,-27.2360306,-28.0150124,-26.7346009,-26.303935,-16.7705777,-27.5819961,-27.6113884,-27.5443032,-26.4134913,-27.3428542,-27.4595003,-26.6990471,-26.5397645,-27.4880371,-27.9336003,-27.5889518,-27.7674471,-27.4076416,-27.6453606,-26.6541595,-27.4401591,-18.6498411,-27.066757,-27.7225265,-19.35682,-27.2439947,-28.7588427,-16.9941129,-28.1469507,-26.8507005,-27.6519632,-17.3535838,-27.3901209,-27.4806276,-27.4869721,-20.2674989,-27.6749806,-27.5140455,-28.110678,-27.5569601,-27.6781718,-27.6372491,-27.3392025,-27.6185546,-16.2446478,-27.5334347,-26.3724452,-23.1334578,-21.1499948,-26.5394151,-19.2873647,-27.1544509,-27.5009968,-27.4756536,-27.5017624,-16.8314187,-27.535027,-27.4799195,-28.215734,-27.6120425,-27.628802,-27.4230215,-17.0187557,-26.1882554,-27.5635723,-27.37121,-27.5951554,-27.4999713,-26.7813787,-27.3244055,-19.3884456,-26.8392162,-27.3203817,-27.4261914,-26.0346017,-27.4517481,-26.6715056,-27.4655769,-21.1851758,-27.4119662,-16.5257098,-27.2838811,-27.3565346,-19.1547801,-17.4318581,-17.2711364,-27.7240022,-24.5729805,-23.5831866,-19.2049974,-27.4412376,-24.3287726,-27.4025873,-27.5435374,-23.8783576,-26.7280729,-26.6105931,-18.5471467,-27.2015813,-27.5554476,-24.9910749,-27.223156,-20.6881443,-27.8856135,-27.666306,-27.5786368,-27.5070097,-28.1404831,-27.5812621,-26.3629933,-25.2686005,-27.4718491,-26.789344,-27.4857911,-27.133839,-20.4049878,-27.6895821,-26.6667341,-28.1700418,-27.6080535,-27.4666718,-16.9678678,-27.0367308,-27.4660994,-27.4620175,-26.5626224,-27.0874883,-23.3762489,-27.5658223,-27.4447063,-27.6166842,-27.4437553],\"lon\":[153.1359352,153.4036287,145.7405497,151.9533185,152.8235456,153.4036287,153.2061661,153.1030766,153.3222261,152.3593807,152.7676633,152.9518951,153.0500809,152.9926352,153.4213208,153.4095259,153.0559687,153.1060212,152.8970569,153.0441933,153.1325243,153.0339889,152.9323602,153.1443045,153.4543191,145.4858493,153.1300249,152.695998,153.3623524,153.2992885,153.0912986,153.3859379,153.4036287,153.3347271,153.0589126,146.6060735,153.4331163,153.220588,146.7552341,153.023588,152.9853264,152.3095833,153.0499871,153.0206446,150.5501151,153.0265315,152.9676695,152.7559043,152.9912123,145.6717627,153.1979543,153.0336149,152.9823847,153.0505806,153.0441933,151.9470976,153.1010891,151.84313,153.2208914,153.2805288,153.0795213,153.2857165,153.0294751,152.908824,153.0795213,152.9382447,146.1622593,153.0834039,153.0441933,147.0379125,153.0912986,151.6538052,145.3585972,153.4919105,152.8970569,153.1737578,145.5936206,152.9323602,153.0412496,153.2390188,148.7169163,153.0500809,153.0149526,153.3977316,152.9264759,153.0912986,153.1030766,152.9353024,152.9617842,145.2701235,153.2667742,150.7679216,150.7333257,149.1271385,153.0879644,146.7917682,152.9727474,153.0619877,152.9917027,152.973555,145.6908596,153.0259992,153.0118145,152.0281585,153.3551435,152.8558773,153.0340375,145.7448496,152.6705427,152.2799511,152.8676186,152.9794406,153.4000698,151.10998,151.8643252,146.7244769,151.9774802,151.7473377,152.9882693,153.0618566,153.0589126,153.1045489,153.0471371,145.1375834,152.9549828,145.4652682,152.9823835,152.9794406,146.8451379,145.093449,145.5830739,153.1030766,149.9744783,148.8799357,146.5168094,152.9823835,151.5580962,152.4269361,152.9529566,151.2463137,152.9617842,153.0795213,143.2244216,152.9655318,152.8676421,151.9554405,153.0824656,148.6236338,153.1236742,153.1384143,152.9264759,153.0479859,153.4285672,153.1207447,152.8559985,152.6148504,153.1295793,152.4973826,152.4621561,152.9264759,148.5807213,153.1590306,152.9665872,153.4341362,152.8088251,153.1833308,145.7464633,152.9607727,153.023588,153.0750052,152.9554676,152.3762221,150.5004652,153.0206446,153.1295793,153.0166574,153.17369],\"name\":\"\",\"subplot\":\"mapbox\",\"z\":[15,14,13,13,12,11,11,11,10,10,10,9,8,8,7,7,7,7,6,6,6,5,5,5,5,5,5,5,5,5,5,5,5,5,5,5,4,4,4,4,4,4,4,4,4,4,4,4,4,4,3,3,3,3,3,3,3,3,3,3,3,3,3,3,3,2,2,2,2,2,2,2,2,2,2,2,2,2,2,2,2,2,2,2,2,2,2,2,2,2,2,2,2,2,2,2,2,2,2,2,2,2,2,2,2,2,2,2,2,2,2,1,1,1,1,1,1,1,1,1,1,1,1,1,1,1,1,1,1,1,1,1,1,1,1,1,1,1,1,1,1,1,1,1,1,1,1,1,1,1,1,1,1,1,1,1,1,1,1,1,1,1,1,1,1,1,1,1,1,1,1,1,1,1,1,1,1],\"type\":\"densitymapbox\"}],                        {\"template\":{\"data\":{\"bar\":[{\"error_x\":{\"color\":\"#2a3f5f\"},\"error_y\":{\"color\":\"#2a3f5f\"},\"marker\":{\"line\":{\"color\":\"#E5ECF6\",\"width\":0.5},\"pattern\":{\"fillmode\":\"overlay\",\"size\":10,\"solidity\":0.2}},\"type\":\"bar\"}],\"barpolar\":[{\"marker\":{\"line\":{\"color\":\"#E5ECF6\",\"width\":0.5},\"pattern\":{\"fillmode\":\"overlay\",\"size\":10,\"solidity\":0.2}},\"type\":\"barpolar\"}],\"carpet\":[{\"aaxis\":{\"endlinecolor\":\"#2a3f5f\",\"gridcolor\":\"white\",\"linecolor\":\"white\",\"minorgridcolor\":\"white\",\"startlinecolor\":\"#2a3f5f\"},\"baxis\":{\"endlinecolor\":\"#2a3f5f\",\"gridcolor\":\"white\",\"linecolor\":\"white\",\"minorgridcolor\":\"white\",\"startlinecolor\":\"#2a3f5f\"},\"type\":\"carpet\"}],\"choropleth\":[{\"colorbar\":{\"outlinewidth\":0,\"ticks\":\"\"},\"type\":\"choropleth\"}],\"contour\":[{\"colorbar\":{\"outlinewidth\":0,\"ticks\":\"\"},\"colorscale\":[[0.0,\"#0d0887\"],[0.1111111111111111,\"#46039f\"],[0.2222222222222222,\"#7201a8\"],[0.3333333333333333,\"#9c179e\"],[0.4444444444444444,\"#bd3786\"],[0.5555555555555556,\"#d8576b\"],[0.6666666666666666,\"#ed7953\"],[0.7777777777777778,\"#fb9f3a\"],[0.8888888888888888,\"#fdca26\"],[1.0,\"#f0f921\"]],\"type\":\"contour\"}],\"contourcarpet\":[{\"colorbar\":{\"outlinewidth\":0,\"ticks\":\"\"},\"type\":\"contourcarpet\"}],\"heatmap\":[{\"colorbar\":{\"outlinewidth\":0,\"ticks\":\"\"},\"colorscale\":[[0.0,\"#0d0887\"],[0.1111111111111111,\"#46039f\"],[0.2222222222222222,\"#7201a8\"],[0.3333333333333333,\"#9c179e\"],[0.4444444444444444,\"#bd3786\"],[0.5555555555555556,\"#d8576b\"],[0.6666666666666666,\"#ed7953\"],[0.7777777777777778,\"#fb9f3a\"],[0.8888888888888888,\"#fdca26\"],[1.0,\"#f0f921\"]],\"type\":\"heatmap\"}],\"heatmapgl\":[{\"colorbar\":{\"outlinewidth\":0,\"ticks\":\"\"},\"colorscale\":[[0.0,\"#0d0887\"],[0.1111111111111111,\"#46039f\"],[0.2222222222222222,\"#7201a8\"],[0.3333333333333333,\"#9c179e\"],[0.4444444444444444,\"#bd3786\"],[0.5555555555555556,\"#d8576b\"],[0.6666666666666666,\"#ed7953\"],[0.7777777777777778,\"#fb9f3a\"],[0.8888888888888888,\"#fdca26\"],[1.0,\"#f0f921\"]],\"type\":\"heatmapgl\"}],\"histogram\":[{\"marker\":{\"pattern\":{\"fillmode\":\"overlay\",\"size\":10,\"solidity\":0.2}},\"type\":\"histogram\"}],\"histogram2d\":[{\"colorbar\":{\"outlinewidth\":0,\"ticks\":\"\"},\"colorscale\":[[0.0,\"#0d0887\"],[0.1111111111111111,\"#46039f\"],[0.2222222222222222,\"#7201a8\"],[0.3333333333333333,\"#9c179e\"],[0.4444444444444444,\"#bd3786\"],[0.5555555555555556,\"#d8576b\"],[0.6666666666666666,\"#ed7953\"],[0.7777777777777778,\"#fb9f3a\"],[0.8888888888888888,\"#fdca26\"],[1.0,\"#f0f921\"]],\"type\":\"histogram2d\"}],\"histogram2dcontour\":[{\"colorbar\":{\"outlinewidth\":0,\"ticks\":\"\"},\"colorscale\":[[0.0,\"#0d0887\"],[0.1111111111111111,\"#46039f\"],[0.2222222222222222,\"#7201a8\"],[0.3333333333333333,\"#9c179e\"],[0.4444444444444444,\"#bd3786\"],[0.5555555555555556,\"#d8576b\"],[0.6666666666666666,\"#ed7953\"],[0.7777777777777778,\"#fb9f3a\"],[0.8888888888888888,\"#fdca26\"],[1.0,\"#f0f921\"]],\"type\":\"histogram2dcontour\"}],\"mesh3d\":[{\"colorbar\":{\"outlinewidth\":0,\"ticks\":\"\"},\"type\":\"mesh3d\"}],\"parcoords\":[{\"line\":{\"colorbar\":{\"outlinewidth\":0,\"ticks\":\"\"}},\"type\":\"parcoords\"}],\"pie\":[{\"automargin\":true,\"type\":\"pie\"}],\"scatter\":[{\"marker\":{\"colorbar\":{\"outlinewidth\":0,\"ticks\":\"\"}},\"type\":\"scatter\"}],\"scatter3d\":[{\"line\":{\"colorbar\":{\"outlinewidth\":0,\"ticks\":\"\"}},\"marker\":{\"colorbar\":{\"outlinewidth\":0,\"ticks\":\"\"}},\"type\":\"scatter3d\"}],\"scattercarpet\":[{\"marker\":{\"colorbar\":{\"outlinewidth\":0,\"ticks\":\"\"}},\"type\":\"scattercarpet\"}],\"scattergeo\":[{\"marker\":{\"colorbar\":{\"outlinewidth\":0,\"ticks\":\"\"}},\"type\":\"scattergeo\"}],\"scattergl\":[{\"marker\":{\"colorbar\":{\"outlinewidth\":0,\"ticks\":\"\"}},\"type\":\"scattergl\"}],\"scattermapbox\":[{\"marker\":{\"colorbar\":{\"outlinewidth\":0,\"ticks\":\"\"}},\"type\":\"scattermapbox\"}],\"scatterpolar\":[{\"marker\":{\"colorbar\":{\"outlinewidth\":0,\"ticks\":\"\"}},\"type\":\"scatterpolar\"}],\"scatterpolargl\":[{\"marker\":{\"colorbar\":{\"outlinewidth\":0,\"ticks\":\"\"}},\"type\":\"scatterpolargl\"}],\"scatterternary\":[{\"marker\":{\"colorbar\":{\"outlinewidth\":0,\"ticks\":\"\"}},\"type\":\"scatterternary\"}],\"surface\":[{\"colorbar\":{\"outlinewidth\":0,\"ticks\":\"\"},\"colorscale\":[[0.0,\"#0d0887\"],[0.1111111111111111,\"#46039f\"],[0.2222222222222222,\"#7201a8\"],[0.3333333333333333,\"#9c179e\"],[0.4444444444444444,\"#bd3786\"],[0.5555555555555556,\"#d8576b\"],[0.6666666666666666,\"#ed7953\"],[0.7777777777777778,\"#fb9f3a\"],[0.8888888888888888,\"#fdca26\"],[1.0,\"#f0f921\"]],\"type\":\"surface\"}],\"table\":[{\"cells\":{\"fill\":{\"color\":\"#EBF0F8\"},\"line\":{\"color\":\"white\"}},\"header\":{\"fill\":{\"color\":\"#C8D4E3\"},\"line\":{\"color\":\"white\"}},\"type\":\"table\"}]},\"layout\":{\"annotationdefaults\":{\"arrowcolor\":\"#2a3f5f\",\"arrowhead\":0,\"arrowwidth\":1},\"autotypenumbers\":\"strict\",\"coloraxis\":{\"colorbar\":{\"outlinewidth\":0,\"ticks\":\"\"}},\"colorscale\":{\"diverging\":[[0,\"#8e0152\"],[0.1,\"#c51b7d\"],[0.2,\"#de77ae\"],[0.3,\"#f1b6da\"],[0.4,\"#fde0ef\"],[0.5,\"#f7f7f7\"],[0.6,\"#e6f5d0\"],[0.7,\"#b8e186\"],[0.8,\"#7fbc41\"],[0.9,\"#4d9221\"],[1,\"#276419\"]],\"sequential\":[[0.0,\"#0d0887\"],[0.1111111111111111,\"#46039f\"],[0.2222222222222222,\"#7201a8\"],[0.3333333333333333,\"#9c179e\"],[0.4444444444444444,\"#bd3786\"],[0.5555555555555556,\"#d8576b\"],[0.6666666666666666,\"#ed7953\"],[0.7777777777777778,\"#fb9f3a\"],[0.8888888888888888,\"#fdca26\"],[1.0,\"#f0f921\"]],\"sequentialminus\":[[0.0,\"#0d0887\"],[0.1111111111111111,\"#46039f\"],[0.2222222222222222,\"#7201a8\"],[0.3333333333333333,\"#9c179e\"],[0.4444444444444444,\"#bd3786\"],[0.5555555555555556,\"#d8576b\"],[0.6666666666666666,\"#ed7953\"],[0.7777777777777778,\"#fb9f3a\"],[0.8888888888888888,\"#fdca26\"],[1.0,\"#f0f921\"]]},\"colorway\":[\"#636efa\",\"#EF553B\",\"#00cc96\",\"#ab63fa\",\"#FFA15A\",\"#19d3f3\",\"#FF6692\",\"#B6E880\",\"#FF97FF\",\"#FECB52\"],\"font\":{\"color\":\"#2a3f5f\"},\"geo\":{\"bgcolor\":\"white\",\"lakecolor\":\"white\",\"landcolor\":\"#E5ECF6\",\"showlakes\":true,\"showland\":true,\"subunitcolor\":\"white\"},\"hoverlabel\":{\"align\":\"left\"},\"hovermode\":\"closest\",\"mapbox\":{\"style\":\"light\"},\"paper_bgcolor\":\"white\",\"plot_bgcolor\":\"#E5ECF6\",\"polar\":{\"angularaxis\":{\"gridcolor\":\"white\",\"linecolor\":\"white\",\"ticks\":\"\"},\"bgcolor\":\"#E5ECF6\",\"radialaxis\":{\"gridcolor\":\"white\",\"linecolor\":\"white\",\"ticks\":\"\"}},\"scene\":{\"xaxis\":{\"backgroundcolor\":\"#E5ECF6\",\"gridcolor\":\"white\",\"gridwidth\":2,\"linecolor\":\"white\",\"showbackground\":true,\"ticks\":\"\",\"zerolinecolor\":\"white\"},\"yaxis\":{\"backgroundcolor\":\"#E5ECF6\",\"gridcolor\":\"white\",\"gridwidth\":2,\"linecolor\":\"white\",\"showbackground\":true,\"ticks\":\"\",\"zerolinecolor\":\"white\"},\"zaxis\":{\"backgroundcolor\":\"#E5ECF6\",\"gridcolor\":\"white\",\"gridwidth\":2,\"linecolor\":\"white\",\"showbackground\":true,\"ticks\":\"\",\"zerolinecolor\":\"white\"}},\"shapedefaults\":{\"line\":{\"color\":\"#2a3f5f\"}},\"ternary\":{\"aaxis\":{\"gridcolor\":\"white\",\"linecolor\":\"white\",\"ticks\":\"\"},\"baxis\":{\"gridcolor\":\"white\",\"linecolor\":\"white\",\"ticks\":\"\"},\"bgcolor\":\"#E5ECF6\",\"caxis\":{\"gridcolor\":\"white\",\"linecolor\":\"white\",\"ticks\":\"\"}},\"title\":{\"x\":0.05},\"xaxis\":{\"automargin\":true,\"gridcolor\":\"white\",\"linecolor\":\"white\",\"ticks\":\"\",\"title\":{\"standoff\":15},\"zerolinecolor\":\"white\",\"zerolinewidth\":2},\"yaxis\":{\"automargin\":true,\"gridcolor\":\"white\",\"linecolor\":\"white\",\"ticks\":\"\",\"title\":{\"standoff\":15},\"zerolinecolor\":\"white\",\"zerolinewidth\":2}}},\"mapbox\":{\"domain\":{\"x\":[0.0,1.0],\"y\":[0.0,1.0]},\"center\":{\"lat\":-25.86617684463277,\"lon\":151.86430188587573},\"zoom\":8},\"coloraxis\":{\"colorbar\":{\"title\":{\"text\":\"value\"}},\"colorscale\":[[0.0,\"#0d0887\"],[0.1111111111111111,\"#46039f\"],[0.2222222222222222,\"#7201a8\"],[0.3333333333333333,\"#9c179e\"],[0.4444444444444444,\"#bd3786\"],[0.5555555555555556,\"#d8576b\"],[0.6666666666666666,\"#ed7953\"],[0.7777777777777778,\"#fb9f3a\"],[0.8888888888888888,\"#fdca26\"],[1.0,\"#f0f921\"]]},\"legend\":{\"tracegroupgap\":0},\"margin\":{\"t\":60},\"height\":700},                        {\"responsive\": true}                    ).then(function(){\n",
       "                            \n",
       "var gd = document.getElementById('4e6042d6-9c86-467e-b960-b6758fae9bfb');\n",
       "var x = new MutationObserver(function (mutations, observer) {{\n",
       "        var display = window.getComputedStyle(gd).display;\n",
       "        if (!display || display === 'none') {{\n",
       "            console.log([gd, 'removed!']);\n",
       "            Plotly.purge(gd);\n",
       "            observer.disconnect();\n",
       "        }}\n",
       "}});\n",
       "\n",
       "// Listen for the removal of the full notebook cells\n",
       "var notebookContainer = gd.closest('#notebook-container');\n",
       "if (notebookContainer) {{\n",
       "    x.observe(notebookContainer, {childList: true});\n",
       "}}\n",
       "\n",
       "// Listen for the clearing of the current output cell\n",
       "var outputEl = gd.closest('.output');\n",
       "if (outputEl) {{\n",
       "    x.observe(outputEl, {childList: true});\n",
       "}}\n",
       "\n",
       "                        })                };                });            </script>        </div>"
      ]
     },
     "metadata": {},
     "output_type": "display_data"
    }
   ],
   "source": [
    "import plotly.express as px\n",
    "\n",
    "fig = px.density_mapbox(df_counts, lat='Lat', lon='Lng', z='value', height=700)\n",
    " \n",
    "fig.show()"
   ]
  }
 ],
 "metadata": {
  "kernelspec": {
   "display_name": "Python 3 (ipykernel)",
   "language": "python",
   "name": "python3"
  },
  "language_info": {
   "codemirror_mode": {
    "name": "ipython",
    "version": 3
   },
   "file_extension": ".py",
   "mimetype": "text/x-python",
   "name": "python",
   "nbconvert_exporter": "python",
   "pygments_lexer": "ipython3",
   "version": "3.9.12"
  }
 },
 "nbformat": 4,
 "nbformat_minor": 5
}
