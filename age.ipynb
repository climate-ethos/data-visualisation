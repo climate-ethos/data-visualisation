{
 "cells": [
  {
   "cell_type": "code",
   "execution_count": 1,
   "id": "b42ea298-0367-420f-8584-cf46efa2bdaa",
   "metadata": {},
   "outputs": [
    {
     "data": {
      "text/plain": [
       "{'SA4_CODE21': '301',\n",
       " 'SA4_NAME21': 'Brisbane - East',\n",
       " 'CHG_FLAG21': '0',\n",
       " 'CHG_LBL21': 'No change',\n",
       " 'GCC_CODE21': '3GBRI',\n",
       " 'GCC_NAME21': 'Greater Brisbane',\n",
       " 'STE_CODE21': '3',\n",
       " 'STE_NAME21': 'Queensland',\n",
       " 'AUS_CODE21': 'AUS',\n",
       " 'AUS_NAME21': 'Australia',\n",
       " 'AREASQKM21': 653.1329,\n",
       " 'LOCI_URI21': 'http://linked.data.gov.au/dataset/asgsed3/SA4/301'}"
      ]
     },
     "execution_count": 1,
     "metadata": {},
     "output_type": "execute_result"
    }
   ],
   "source": [
    "import json\n",
    "\n",
    "with open('data/SA4_2021_AUST_GDA2020.json', 'r') as f:\n",
    "    australia_geo_map = json.load(f)\n",
    "\n",
    "australia_geo_map[\"features\"][0][\"properties\"]"
   ]
  },
  {
   "cell_type": "code",
   "execution_count": 2,
   "id": "59c4039d-e039-4b68-b832-7167fd27e159",
   "metadata": {},
   "outputs": [
    {
     "data": {
      "text/html": [
       "<div>\n",
       "<style scoped>\n",
       "    .dataframe tbody tr th:only-of-type {\n",
       "        vertical-align: middle;\n",
       "    }\n",
       "\n",
       "    .dataframe tbody tr th {\n",
       "        vertical-align: top;\n",
       "    }\n",
       "\n",
       "    .dataframe thead th {\n",
       "        text-align: right;\n",
       "    }\n",
       "</style>\n",
       "<table border=\"1\" class=\"dataframe\">\n",
       "  <thead>\n",
       "    <tr style=\"text-align: right;\">\n",
       "      <th></th>\n",
       "      <th>Area code</th>\n",
       "      <th>Location</th>\n",
       "      <th>Year</th>\n",
       "      <th>value</th>\n",
       "    </tr>\n",
       "  </thead>\n",
       "  <tbody>\n",
       "    <tr>\n",
       "      <th>0</th>\n",
       "      <td>301</td>\n",
       "      <td>Brisbane East</td>\n",
       "      <td>2016</td>\n",
       "      <td>21.79279</td>\n",
       "    </tr>\n",
       "    <tr>\n",
       "      <th>1</th>\n",
       "      <td>302</td>\n",
       "      <td>Brisbane North</td>\n",
       "      <td>2016</td>\n",
       "      <td>19.57566</td>\n",
       "    </tr>\n",
       "    <tr>\n",
       "      <th>2</th>\n",
       "      <td>303</td>\n",
       "      <td>Brisbane South</td>\n",
       "      <td>2016</td>\n",
       "      <td>16.36265</td>\n",
       "    </tr>\n",
       "    <tr>\n",
       "      <th>3</th>\n",
       "      <td>304</td>\n",
       "      <td>Brisbane West</td>\n",
       "      <td>2016</td>\n",
       "      <td>18.41111</td>\n",
       "    </tr>\n",
       "    <tr>\n",
       "      <th>4</th>\n",
       "      <td>305</td>\n",
       "      <td>Brisbane Inner City</td>\n",
       "      <td>2016</td>\n",
       "      <td>13.59404</td>\n",
       "    </tr>\n",
       "  </tbody>\n",
       "</table>\n",
       "</div>"
      ],
      "text/plain": [
       "   Area code             Location  Year     value\n",
       "0        301        Brisbane East  2016  21.79279\n",
       "1        302       Brisbane North  2016  19.57566\n",
       "2        303       Brisbane South  2016  16.36265\n",
       "3        304        Brisbane West  2016  18.41111\n",
       "4        305  Brisbane Inner City  2016  13.59404"
      ]
     },
     "execution_count": 2,
     "metadata": {},
     "output_type": "execute_result"
    }
   ],
   "source": [
    "import pandas as pd\n",
    "df_proportion_over_65 = pd.read_csv(\"data/over_65_percent.csv\")\n",
    "years = [\"2016\", \"2021\", \"2026\", \"2031\", \"2036\", \"2041\"]\n",
    "df_proportion_over_65 = pd.melt(\n",
    "    df_proportion_over_65,\n",
    "    id_vars=['Area code', 'Location'],\n",
    "    value_vars=years,\n",
    "    var_name=\"Year\"\n",
    ")\n",
    "df_proportion_over_65.head()"
   ]
  },
  {
   "cell_type": "code",
   "execution_count": null,
   "id": "28582651-91e4-4ef6-8ac0-a4ef5faee3b6",
   "metadata": {},
   "outputs": [],
   "source": [
    "import plotly.express as px\n",
    "\n",
    "fig = px.choropleth_mapbox(df_proportion_over_65,\n",
    "                           geojson=australia_geo_map,\n",
    "                           locations='Area code',\n",
    "                           color='value',\n",
    "                           color_continuous_scale=[\"green\", \"yellow\", \"#edc40c\", \"#de3a2f\", \"#960202\"],\n",
    "                           range_color=(15, 32),\n",
    "                           hover_name=\"Location\",\n",
    "                           animation_frame=\"Year\",\n",
    "                           mapbox_style=\"carto-positron\",\n",
    "                           zoom=7,\n",
    "                           center = {\"lat\": -27.2500, \"lon\": 153.0260},\n",
    "                           opacity=0.5,\n",
    "                           labels={'Value':'Percentage over 65'},\n",
    "                           featureidkey=\"properties.SA4_CODE21\",\n",
    "                           height=700\n",
    "                          )\n",
    "\n",
    "# Set annimation speed (in ms)\n",
    "fig.layout.updatemenus[0].buttons[0].args[1][\"frame\"][\"duration\"] = 1000\n",
    "# fig.update_layout(margin={\"r\":0,\"t\":0,\"l\":0,\"b\":0})\n",
    "fig.show()"
   ]
  }
 ],
 "metadata": {
  "kernelspec": {
   "display_name": "Python 3 (ipykernel)",
   "language": "python",
   "name": "python3"
  },
  "language_info": {
   "codemirror_mode": {
    "name": "ipython",
    "version": 3
   },
   "file_extension": ".py",
   "mimetype": "text/x-python",
   "name": "python",
   "nbconvert_exporter": "python",
   "pygments_lexer": "ipython3",
   "version": "3.9.12"
  }
 },
 "nbformat": 4,
 "nbformat_minor": 5
}
